{
 "cells": [
  {
   "cell_type": "code",
   "execution_count": null,
   "metadata": {},
   "outputs": [],
   "source": [
    "#3 observations\n",
    "#1 The most profitable item is the most popular one. \n",
    "#2 People between the ages of 20-24 spend the most money on products. \n",
    "#3 On average 15-19 year olds spend close to the same amount as 20-24 year olds \n",
    "#3 despite total money spent being closed to tripled in favor of the 20-24 year olds"
   ]
  },
  {
   "cell_type": "code",
   "execution_count": 1,
   "metadata": {},
   "outputs": [],
   "source": [
    "#Dependencies\n",
    "import pandas as pd\n",
    "import numpy as np"
   ]
  },
  {
   "cell_type": "code",
   "execution_count": 2,
   "metadata": {},
   "outputs": [],
   "source": [
    "#Save path to data set in a variable\n",
    "purchase_data = \"Resources/purchase_data.csv\""
   ]
  },
  {
   "cell_type": "code",
   "execution_count": 3,
   "metadata": {},
   "outputs": [
    {
     "data": {
      "text/html": [
       "<div>\n",
       "<style scoped>\n",
       "    .dataframe tbody tr th:only-of-type {\n",
       "        vertical-align: middle;\n",
       "    }\n",
       "\n",
       "    .dataframe tbody tr th {\n",
       "        vertical-align: top;\n",
       "    }\n",
       "\n",
       "    .dataframe thead th {\n",
       "        text-align: right;\n",
       "    }\n",
       "</style>\n",
       "<table border=\"1\" class=\"dataframe\">\n",
       "  <thead>\n",
       "    <tr style=\"text-align: right;\">\n",
       "      <th></th>\n",
       "      <th>Purchase ID</th>\n",
       "      <th>SN</th>\n",
       "      <th>Age</th>\n",
       "      <th>Gender</th>\n",
       "      <th>Item ID</th>\n",
       "      <th>Item Name</th>\n",
       "      <th>Price</th>\n",
       "    </tr>\n",
       "  </thead>\n",
       "  <tbody>\n",
       "    <tr>\n",
       "      <td>0</td>\n",
       "      <td>0</td>\n",
       "      <td>Lisim78</td>\n",
       "      <td>20</td>\n",
       "      <td>Male</td>\n",
       "      <td>108</td>\n",
       "      <td>Extraction, Quickblade Of Trembling Hands</td>\n",
       "      <td>3.53</td>\n",
       "    </tr>\n",
       "    <tr>\n",
       "      <td>1</td>\n",
       "      <td>1</td>\n",
       "      <td>Lisovynya38</td>\n",
       "      <td>40</td>\n",
       "      <td>Male</td>\n",
       "      <td>143</td>\n",
       "      <td>Frenzied Scimitar</td>\n",
       "      <td>1.56</td>\n",
       "    </tr>\n",
       "    <tr>\n",
       "      <td>2</td>\n",
       "      <td>2</td>\n",
       "      <td>Ithergue48</td>\n",
       "      <td>24</td>\n",
       "      <td>Male</td>\n",
       "      <td>92</td>\n",
       "      <td>Final Critic</td>\n",
       "      <td>4.88</td>\n",
       "    </tr>\n",
       "    <tr>\n",
       "      <td>3</td>\n",
       "      <td>3</td>\n",
       "      <td>Chamassasya86</td>\n",
       "      <td>24</td>\n",
       "      <td>Male</td>\n",
       "      <td>100</td>\n",
       "      <td>Blindscythe</td>\n",
       "      <td>3.27</td>\n",
       "    </tr>\n",
       "    <tr>\n",
       "      <td>4</td>\n",
       "      <td>4</td>\n",
       "      <td>Iskosia90</td>\n",
       "      <td>23</td>\n",
       "      <td>Male</td>\n",
       "      <td>131</td>\n",
       "      <td>Fury</td>\n",
       "      <td>1.44</td>\n",
       "    </tr>\n",
       "  </tbody>\n",
       "</table>\n",
       "</div>"
      ],
      "text/plain": [
       "   Purchase ID             SN  Age Gender  Item ID  \\\n",
       "0            0        Lisim78   20   Male      108   \n",
       "1            1    Lisovynya38   40   Male      143   \n",
       "2            2     Ithergue48   24   Male       92   \n",
       "3            3  Chamassasya86   24   Male      100   \n",
       "4            4      Iskosia90   23   Male      131   \n",
       "\n",
       "                                   Item Name  Price  \n",
       "0  Extraction, Quickblade Of Trembling Hands   3.53  \n",
       "1                          Frenzied Scimitar   1.56  \n",
       "2                               Final Critic   4.88  \n",
       "3                                Blindscythe   3.27  \n",
       "4                                       Fury   1.44  "
      ]
     },
     "execution_count": 3,
     "metadata": {},
     "output_type": "execute_result"
    }
   ],
   "source": [
    "#Use Pandas to read data\n",
    "purchase_data = pd.read_csv(purchase_data)\n",
    "purchase_data.head()"
   ]
  },
  {
   "cell_type": "code",
   "execution_count": 4,
   "metadata": {},
   "outputs": [
    {
     "data": {
      "text/html": [
       "<div>\n",
       "<style scoped>\n",
       "    .dataframe tbody tr th:only-of-type {\n",
       "        vertical-align: middle;\n",
       "    }\n",
       "\n",
       "    .dataframe tbody tr th {\n",
       "        vertical-align: top;\n",
       "    }\n",
       "\n",
       "    .dataframe thead th {\n",
       "        text-align: right;\n",
       "    }\n",
       "</style>\n",
       "<table border=\"1\" class=\"dataframe\">\n",
       "  <thead>\n",
       "    <tr style=\"text-align: right;\">\n",
       "      <th></th>\n",
       "      <th>Total Players</th>\n",
       "    </tr>\n",
       "  </thead>\n",
       "  <tbody>\n",
       "    <tr>\n",
       "      <td>0</td>\n",
       "      <td>576</td>\n",
       "    </tr>\n",
       "  </tbody>\n",
       "</table>\n",
       "</div>"
      ],
      "text/plain": [
       "   Total Players\n",
       "0            576"
      ]
     },
     "execution_count": 4,
     "metadata": {},
     "output_type": "execute_result"
    }
   ],
   "source": [
    "#Total Number of Players\n",
    "count = len(purchase_data[\"SN\"].value_counts())\n",
    "total_players = pd.DataFrame({\"Total Players\":[count]})\n",
    "\n",
    "total_players"
   ]
  },
  {
   "cell_type": "code",
   "execution_count": 5,
   "metadata": {},
   "outputs": [],
   "source": [
    "#Number of Unique Items\n",
    "countid = len(purchase_data[\"Item ID\"].unique())\n"
   ]
  },
  {
   "cell_type": "code",
   "execution_count": 6,
   "metadata": {},
   "outputs": [],
   "source": [
    "#Total number of purchases\n",
    "purchases = len(purchase_data[\"Purchase ID\"].value_counts())\n"
   ]
  },
  {
   "cell_type": "code",
   "execution_count": 7,
   "metadata": {},
   "outputs": [],
   "source": [
    "#Average Purchase Price\n",
    "price = purchase_data[\"Price\"].sum()\n",
    "average = (price/purchases).round(decimals=2)\n"
   ]
  },
  {
   "cell_type": "code",
   "execution_count": 8,
   "metadata": {},
   "outputs": [],
   "source": [
    "#Total Revenue\n",
    "total_revenue = (purchase_data[\"Price\"].sum()).round(decimals = 2)\n"
   ]
  },
  {
   "cell_type": "code",
   "execution_count": 9,
   "metadata": {},
   "outputs": [],
   "source": [
    "#Data frame for total_players, countid, average, purchases, total_revenue, mfo_values\n",
    "summary_df = pd.DataFrame({\"Total Players\" : [count],\n",
    "                          \"ID Count\" : [countid],\n",
    "                          \"Average\" : [average],\n",
    "                          \"Number of Purchases\": [purchases],\n",
    "                          \"Total Revenue\" : [total_revenue]})"
   ]
  },
  {
   "cell_type": "code",
   "execution_count": 10,
   "metadata": {},
   "outputs": [
    {
     "data": {
      "text/html": [
       "<style  type=\"text/css\" >\n",
       "</style><table id=\"T_42755452_8aa8_11ea_9234_8c859024b292\" ><thead>    <tr>        <th class=\"blank level0\" ></th>        <th class=\"col_heading level0 col0\" >Total Players</th>        <th class=\"col_heading level0 col1\" >ID Count</th>        <th class=\"col_heading level0 col2\" >Average</th>        <th class=\"col_heading level0 col3\" >Number of Purchases</th>        <th class=\"col_heading level0 col4\" >Total Revenue</th>    </tr></thead><tbody>\n",
       "                <tr>\n",
       "                        <th id=\"T_42755452_8aa8_11ea_9234_8c859024b292level0_row0\" class=\"row_heading level0 row0\" >0</th>\n",
       "                        <td id=\"T_42755452_8aa8_11ea_9234_8c859024b292row0_col0\" class=\"data row0 col0\" >576</td>\n",
       "                        <td id=\"T_42755452_8aa8_11ea_9234_8c859024b292row0_col1\" class=\"data row0 col1\" >183</td>\n",
       "                        <td id=\"T_42755452_8aa8_11ea_9234_8c859024b292row0_col2\" class=\"data row0 col2\" >$3.05</td>\n",
       "                        <td id=\"T_42755452_8aa8_11ea_9234_8c859024b292row0_col3\" class=\"data row0 col3\" >780</td>\n",
       "                        <td id=\"T_42755452_8aa8_11ea_9234_8c859024b292row0_col4\" class=\"data row0 col4\" >$2,379.77</td>\n",
       "            </tr>\n",
       "    </tbody></table>"
      ],
      "text/plain": [
       "<pandas.io.formats.style.Styler at 0x11bba0a90>"
      ]
     },
     "execution_count": 10,
     "metadata": {},
     "output_type": "execute_result"
    }
   ],
   "source": [
    "summary_df. style.format({\"Average\": \"${:,.2f}\",\n",
    "                          \"Total Revenue\": \"${:,.2f}\"})"
   ]
  },
  {
   "cell_type": "code",
   "execution_count": 11,
   "metadata": {},
   "outputs": [],
   "source": [
    "#List of Gender types\n",
    "gender = purchase_data[\"Gender\"].unique()\n"
   ]
  },
  {
   "cell_type": "code",
   "execution_count": 12,
   "metadata": {},
   "outputs": [],
   "source": [
    "#Male Players Only\n",
    "male_df = purchase_data.loc[purchase_data[\"Gender\"] == \"Male\", :]\n"
   ]
  },
  {
   "cell_type": "code",
   "execution_count": 13,
   "metadata": {},
   "outputs": [],
   "source": [
    "#Total Male Players\n",
    "total_male_players = len(male_df[\"SN\"].unique())\n"
   ]
  },
  {
   "cell_type": "code",
   "execution_count": 14,
   "metadata": {},
   "outputs": [],
   "source": [
    "#Other / Non Disclosed Players\n",
    "other_non_disclosed_df = purchase_data.loc[purchase_data[\"Gender\"] == \"Other / Non-Disclosed\",:]\n",
    "\n"
   ]
  },
  {
   "cell_type": "code",
   "execution_count": 15,
   "metadata": {},
   "outputs": [],
   "source": [
    "#Total ONDP\n",
    "total_other_non_disclosed = len(other_non_disclosed_df[\"SN\"].unique())\n"
   ]
  },
  {
   "cell_type": "code",
   "execution_count": 16,
   "metadata": {},
   "outputs": [],
   "source": [
    "#Female Player\n",
    "female_df = purchase_data.loc[purchase_data[\"Gender\"] == \"Female\", :]\n"
   ]
  },
  {
   "cell_type": "code",
   "execution_count": 17,
   "metadata": {},
   "outputs": [],
   "source": [
    "#Total Female Players\n",
    "total_female_players = len(female_df[\"SN\"].unique())\n"
   ]
  },
  {
   "cell_type": "code",
   "execution_count": 18,
   "metadata": {},
   "outputs": [],
   "source": [
    "#Percentage for Gender Categories\n",
    "male_perc = (total_male_players) / count * 100\n",
    "other_perc = (total_other_non_disclosed) / count * 100 \n",
    "female_perc = (total_female_players) / count * 100\n",
    "\n"
   ]
  },
  {
   "cell_type": "code",
   "execution_count": 19,
   "metadata": {},
   "outputs": [],
   "source": [
    "#Gender Summary Data Frame\n",
    "gender_summary_df = pd.DataFrame({ \"Gender\" : [\"Male\",\"Female\", \"Other Non / Disclosed\"],\n",
    "                      \"Total Number\" :[total_male_players, total_female_players,total_other_non_disclosed],\n",
    "                      \"Percent\" : [male_perc, female_perc, other_perc]\n",
    "                     })\n",
    "\n"
   ]
  },
  {
   "cell_type": "code",
   "execution_count": 20,
   "metadata": {},
   "outputs": [],
   "source": [
    "#Set Gender as Index\n",
    "gender_summary = gender_summary_df.set_index(\"Gender\")\n"
   ]
  },
  {
   "cell_type": "code",
   "execution_count": 21,
   "metadata": {},
   "outputs": [
    {
     "data": {
      "text/html": [
       "<style  type=\"text/css\" >\n",
       "</style><table id=\"T_428825aa_8aa8_11ea_9234_8c859024b292\" ><thead>    <tr>        <th class=\"blank level0\" ></th>        <th class=\"col_heading level0 col0\" >Total Number</th>        <th class=\"col_heading level0 col1\" >Percent</th>    </tr>    <tr>        <th class=\"index_name level0\" >Gender</th>        <th class=\"blank\" ></th>        <th class=\"blank\" ></th>    </tr></thead><tbody>\n",
       "                <tr>\n",
       "                        <th id=\"T_428825aa_8aa8_11ea_9234_8c859024b292level0_row0\" class=\"row_heading level0 row0\" >Male</th>\n",
       "                        <td id=\"T_428825aa_8aa8_11ea_9234_8c859024b292row0_col0\" class=\"data row0 col0\" >484</td>\n",
       "                        <td id=\"T_428825aa_8aa8_11ea_9234_8c859024b292row0_col1\" class=\"data row0 col1\" >84.03%</td>\n",
       "            </tr>\n",
       "            <tr>\n",
       "                        <th id=\"T_428825aa_8aa8_11ea_9234_8c859024b292level0_row1\" class=\"row_heading level0 row1\" >Female</th>\n",
       "                        <td id=\"T_428825aa_8aa8_11ea_9234_8c859024b292row1_col0\" class=\"data row1 col0\" >81</td>\n",
       "                        <td id=\"T_428825aa_8aa8_11ea_9234_8c859024b292row1_col1\" class=\"data row1 col1\" >14.06%</td>\n",
       "            </tr>\n",
       "            <tr>\n",
       "                        <th id=\"T_428825aa_8aa8_11ea_9234_8c859024b292level0_row2\" class=\"row_heading level0 row2\" >Other Non / Disclosed</th>\n",
       "                        <td id=\"T_428825aa_8aa8_11ea_9234_8c859024b292row2_col0\" class=\"data row2 col0\" >11</td>\n",
       "                        <td id=\"T_428825aa_8aa8_11ea_9234_8c859024b292row2_col1\" class=\"data row2 col1\" >1.91%</td>\n",
       "            </tr>\n",
       "    </tbody></table>"
      ],
      "text/plain": [
       "<pandas.io.formats.style.Styler at 0x11c6a9090>"
      ]
     },
     "execution_count": 21,
     "metadata": {},
     "output_type": "execute_result"
    }
   ],
   "source": [
    "gender_summary_final = gender_summary. style.format({\"Percent\": \"{:,.2f}%\"})\n",
    "gender_summary_final"
   ]
  },
  {
   "cell_type": "code",
   "execution_count": 22,
   "metadata": {},
   "outputs": [],
   "source": [
    "#Purchase Analysis by Gender\n",
    "#Purchase Count\n",
    "male_purchase_count = male_df[\"Purchase ID\"].count()\n",
    "female_purchase_count = female_df[\"Purchase ID\"].count()\n",
    "other_non_disclosed_count = other_non_disclosed_df[\"Purchase ID\"].count()\n",
    "                        \n",
    "#Average Purchase Price\n",
    "male_average_purchase_price = male_df[\"Price\"].mean()\n",
    "female_average_purchase_price = female_df[\"Price\"].mean()\n",
    "other_non_disclosed_price = other_non_disclosed_df[\"Price\"].mean()\n",
    "\n",
    "#Total Purchase Value\n",
    "total_male_purchase_price = male_df[\"Price\"].sum()\n",
    "total_female_purchase_price = female_df[\"Price\"].sum()\n",
    "total_other_non_disclosed_price = other_non_disclosed_df[\"Price\"].sum()\n",
    "\n",
    "#Average Price Per Person\n",
    "average_male_purchase_per_person = (total_male_purchase_price) / (total_male_players)\n",
    "average_female_purchase_price_per_person = (total_female_purchase_price)/(total_female_players)\n",
    "average_other_non_disclosed_price_per_person = (total_other_non_disclosed_price)/(total_other_non_disclosed)\n",
    "\n",
    "\n",
    "\n"
   ]
  },
  {
   "cell_type": "code",
   "execution_count": 23,
   "metadata": {},
   "outputs": [],
   "source": [
    "#Create Data Frame \n",
    "gender_pa_df = pd.DataFrame({\"Gender\": [\"Male\", \"Female\", \"Other / Non-Disclosed\"],\n",
    "                 \"Purchase Count\" : [male_purchase_count, female_purchase_count, other_non_disclosed_count],\n",
    "                 \"Average Purchase Price\" : [male_average_purchase_price, female_average_purchase_price, other_non_disclosed_count],\n",
    "                 \"Total Purchase Value\" : [total_male_purchase_price, total_female_purchase_price, total_other_non_disclosed_price],\n",
    "                 \"Average Price Per Person\" : [average_male_purchase_per_person, average_female_purchase_price_per_person,average_other_non_disclosed_price_per_person]\n",
    "                 })\n"
   ]
  },
  {
   "cell_type": "code",
   "execution_count": 24,
   "metadata": {},
   "outputs": [],
   "source": [
    "#Set Gender to Index\n",
    "gender_index_df = gender_pa_df.set_index(\"Gender\")\n",
    "\n",
    "\n"
   ]
  },
  {
   "cell_type": "code",
   "execution_count": 25,
   "metadata": {},
   "outputs": [
    {
     "data": {
      "text/html": [
       "<style  type=\"text/css\" >\n",
       "</style><table id=\"T_4292e99a_8aa8_11ea_9234_8c859024b292\" ><thead>    <tr>        <th class=\"blank level0\" ></th>        <th class=\"col_heading level0 col0\" >Purchase Count</th>        <th class=\"col_heading level0 col1\" >Average Purchase Price</th>        <th class=\"col_heading level0 col2\" >Total Purchase Value</th>        <th class=\"col_heading level0 col3\" >Average Price Per Person</th>    </tr>    <tr>        <th class=\"index_name level0\" >Gender</th>        <th class=\"blank\" ></th>        <th class=\"blank\" ></th>        <th class=\"blank\" ></th>        <th class=\"blank\" ></th>    </tr></thead><tbody>\n",
       "                <tr>\n",
       "                        <th id=\"T_4292e99a_8aa8_11ea_9234_8c859024b292level0_row0\" class=\"row_heading level0 row0\" >Male</th>\n",
       "                        <td id=\"T_4292e99a_8aa8_11ea_9234_8c859024b292row0_col0\" class=\"data row0 col0\" >652</td>\n",
       "                        <td id=\"T_4292e99a_8aa8_11ea_9234_8c859024b292row0_col1\" class=\"data row0 col1\" >$3.02</td>\n",
       "                        <td id=\"T_4292e99a_8aa8_11ea_9234_8c859024b292row0_col2\" class=\"data row0 col2\" >$1,967.64</td>\n",
       "                        <td id=\"T_4292e99a_8aa8_11ea_9234_8c859024b292row0_col3\" class=\"data row0 col3\" >$4.07</td>\n",
       "            </tr>\n",
       "            <tr>\n",
       "                        <th id=\"T_4292e99a_8aa8_11ea_9234_8c859024b292level0_row1\" class=\"row_heading level0 row1\" >Female</th>\n",
       "                        <td id=\"T_4292e99a_8aa8_11ea_9234_8c859024b292row1_col0\" class=\"data row1 col0\" >113</td>\n",
       "                        <td id=\"T_4292e99a_8aa8_11ea_9234_8c859024b292row1_col1\" class=\"data row1 col1\" >$3.20</td>\n",
       "                        <td id=\"T_4292e99a_8aa8_11ea_9234_8c859024b292row1_col2\" class=\"data row1 col2\" >$361.94</td>\n",
       "                        <td id=\"T_4292e99a_8aa8_11ea_9234_8c859024b292row1_col3\" class=\"data row1 col3\" >$4.47</td>\n",
       "            </tr>\n",
       "            <tr>\n",
       "                        <th id=\"T_4292e99a_8aa8_11ea_9234_8c859024b292level0_row2\" class=\"row_heading level0 row2\" >Other / Non-Disclosed</th>\n",
       "                        <td id=\"T_4292e99a_8aa8_11ea_9234_8c859024b292row2_col0\" class=\"data row2 col0\" >15</td>\n",
       "                        <td id=\"T_4292e99a_8aa8_11ea_9234_8c859024b292row2_col1\" class=\"data row2 col1\" >$15.00</td>\n",
       "                        <td id=\"T_4292e99a_8aa8_11ea_9234_8c859024b292row2_col2\" class=\"data row2 col2\" >$50.19</td>\n",
       "                        <td id=\"T_4292e99a_8aa8_11ea_9234_8c859024b292row2_col3\" class=\"data row2 col3\" >$4.56</td>\n",
       "            </tr>\n",
       "    </tbody></table>"
      ],
      "text/plain": [
       "<pandas.io.formats.style.Styler at 0x11bb9bc50>"
      ]
     },
     "execution_count": 25,
     "metadata": {},
     "output_type": "execute_result"
    }
   ],
   "source": [
    "#Format Values\n",
    "\n",
    "gender_final = gender_index_df.style.format({\"Average Purchase Price\": \"${:,.2f}\",\n",
    "                          \"Total Purchase Value\": \"${:,.2f}\",\n",
    "                          \"Average Price Per Person\":\"${:,.2f}\" })\n",
    "\n",
    "gender_final"
   ]
  },
  {
   "cell_type": "code",
   "execution_count": 26,
   "metadata": {},
   "outputs": [
    {
     "name": "stdout",
     "output_type": "stream",
     "text": [
      "45\n",
      "7\n"
     ]
    }
   ],
   "source": [
    "#Figure out minimum and maximum ages \n",
    "print(purchase_data[\"Age\"].max())\n",
    "print(purchase_data[\"Age\"].min())"
   ]
  },
  {
   "cell_type": "code",
   "execution_count": 27,
   "metadata": {},
   "outputs": [],
   "source": [
    "#Bins for data \n",
    "bins = [0,9,14,19,24,29,34,39,50]\n",
    "\n",
    "#Names for Bins\n",
    "group_names = [\"Less Than 10\", \"10-14\", \"15-19\", \"20-24\", \"25-29\", \"30-34\",\"35-39\",\"40+\"]\n",
    "\n",
    "#Slice data and place into bins\n",
    "purchase_data[\"Age Demographics\"] = pd.cut(purchase_data[\"Age\"], bins, labels=group_names)\n",
    "\n"
   ]
  },
  {
   "cell_type": "code",
   "execution_count": 33,
   "metadata": {},
   "outputs": [
    {
     "data": {
      "text/plain": [
       "Age Demographics\n",
       "Less Than 10     17.0\n",
       "10-14            22.0\n",
       "15-19           107.0\n",
       "20-24           258.0\n",
       "25-29            77.0\n",
       "30-34            52.0\n",
       "35-39            31.0\n",
       "40+              12.0\n",
       "dtype: float64"
      ]
     },
     "execution_count": 33,
     "metadata": {},
     "output_type": "execute_result"
    }
   ],
   "source": [
    "#Age Group Count\n",
    "age_group_count = purchase_data.groupby([\"Age Demographics\",\"SN\"]).size().groupby(\"Age Demographics\").count().astype(float)\n",
    "age_group_count"
   ]
  },
  {
   "cell_type": "code",
   "execution_count": 34,
   "metadata": {},
   "outputs": [
    {
     "data": {
      "text/html": [
       "<div>\n",
       "<style scoped>\n",
       "    .dataframe tbody tr th:only-of-type {\n",
       "        vertical-align: middle;\n",
       "    }\n",
       "\n",
       "    .dataframe tbody tr th {\n",
       "        vertical-align: top;\n",
       "    }\n",
       "\n",
       "    .dataframe thead th {\n",
       "        text-align: right;\n",
       "    }\n",
       "</style>\n",
       "<table border=\"1\" class=\"dataframe\">\n",
       "  <thead>\n",
       "    <tr style=\"text-align: right;\">\n",
       "      <th></th>\n",
       "      <th>Total Count</th>\n",
       "    </tr>\n",
       "    <tr>\n",
       "      <th>Age Demographics</th>\n",
       "      <th></th>\n",
       "    </tr>\n",
       "  </thead>\n",
       "  <tbody>\n",
       "    <tr>\n",
       "      <td>Less Than 10</td>\n",
       "      <td>17.0</td>\n",
       "    </tr>\n",
       "    <tr>\n",
       "      <td>10-14</td>\n",
       "      <td>22.0</td>\n",
       "    </tr>\n",
       "    <tr>\n",
       "      <td>15-19</td>\n",
       "      <td>107.0</td>\n",
       "    </tr>\n",
       "    <tr>\n",
       "      <td>20-24</td>\n",
       "      <td>258.0</td>\n",
       "    </tr>\n",
       "    <tr>\n",
       "      <td>25-29</td>\n",
       "      <td>77.0</td>\n",
       "    </tr>\n",
       "    <tr>\n",
       "      <td>30-34</td>\n",
       "      <td>52.0</td>\n",
       "    </tr>\n",
       "    <tr>\n",
       "      <td>35-39</td>\n",
       "      <td>31.0</td>\n",
       "    </tr>\n",
       "    <tr>\n",
       "      <td>40+</td>\n",
       "      <td>12.0</td>\n",
       "    </tr>\n",
       "  </tbody>\n",
       "</table>\n",
       "</div>"
      ],
      "text/plain": [
       "                  Total Count\n",
       "Age Demographics             \n",
       "Less Than 10             17.0\n",
       "10-14                    22.0\n",
       "15-19                   107.0\n",
       "20-24                   258.0\n",
       "25-29                    77.0\n",
       "30-34                    52.0\n",
       "35-39                    31.0\n",
       "40+                      12.0"
      ]
     },
     "execution_count": 34,
     "metadata": {},
     "output_type": "execute_result"
    }
   ],
   "source": [
    "agc_df = pd.DataFrame(age_group_count)\n",
    "agc_df.columns = ['Total Count']\n",
    "agc_df"
   ]
  },
  {
   "cell_type": "code",
   "execution_count": 84,
   "metadata": {},
   "outputs": [
    {
     "ename": "SyntaxError",
     "evalue": "EOL while scanning string literal (<ipython-input-84-27af5d1f0413>, line 7)",
     "output_type": "error",
     "traceback": [
      "\u001b[0;36m  File \u001b[0;32m\"<ipython-input-84-27af5d1f0413>\"\u001b[0;36m, line \u001b[0;32m7\u001b[0m\n\u001b[0;31m    agc_df_pretty = agc_df.style.format({\"Average\": \"{:,.2f}%})\u001b[0m\n\u001b[0m                                                               ^\u001b[0m\n\u001b[0;31mSyntaxError\u001b[0m\u001b[0;31m:\u001b[0m EOL while scanning string literal\n"
     ]
    }
   ],
   "source": [
    "#add percentage of players column and set it equal to the entire first column divided by the count and multiply by 100 and round to two decmial places\n",
    "agc_df[\"Percentage of Players\"] = (agc_df[\"Total Count\"]/count *100).round(decimals=2)\n",
    "agc_df\n",
    "\n",
    "\n",
    "#format %\n",
    "#agc_df_pretty = agc_df.style.format({\"Average\": \"{:,.2f}%})\n"
   ]
  },
  {
   "cell_type": "code",
   "execution_count": 83,
   "metadata": {},
   "outputs": [],
   "source": [
    "#Group by age\n",
    "purchase_data[\"Age Range\"] = pd.cut(purchase_data[\"Age\"], bins, labels=group_names)\n",
    "group = purchase_data.groupby(\"Age Range\")\n"
   ]
  },
  {
   "cell_type": "code",
   "execution_count": 82,
   "metadata": {},
   "outputs": [
    {
     "data": {
      "text/html": [
       "<style  type=\"text/css\" >\n",
       "</style><table id=\"T_bb337e58_8abe_11ea_9234_8c859024b292\" ><thead>    <tr>        <th class=\"blank level0\" ></th>        <th class=\"col_heading level0 col0\" >Purchase Count</th>        <th class=\"col_heading level0 col1\" >Average Purchase Value</th>        <th class=\"col_heading level0 col2\" >Total Purchase Value</th>        <th class=\"col_heading level0 col3\" >Average Total Purchase Per Person</th>    </tr></thead><tbody>\n",
       "                <tr>\n",
       "                        <th id=\"T_bb337e58_8abe_11ea_9234_8c859024b292level0_row0\" class=\"row_heading level0 row0\" >Less Than 10</th>\n",
       "                        <td id=\"T_bb337e58_8abe_11ea_9234_8c859024b292row0_col0\" class=\"data row0 col0\" >23</td>\n",
       "                        <td id=\"T_bb337e58_8abe_11ea_9234_8c859024b292row0_col1\" class=\"data row0 col1\" >$3.35</td>\n",
       "                        <td id=\"T_bb337e58_8abe_11ea_9234_8c859024b292row0_col2\" class=\"data row0 col2\" >$77.13</td>\n",
       "                        <td id=\"T_bb337e58_8abe_11ea_9234_8c859024b292row0_col3\" class=\"data row0 col3\" >$4.54</td>\n",
       "            </tr>\n",
       "            <tr>\n",
       "                        <th id=\"T_bb337e58_8abe_11ea_9234_8c859024b292level0_row1\" class=\"row_heading level0 row1\" >10-14</th>\n",
       "                        <td id=\"T_bb337e58_8abe_11ea_9234_8c859024b292row1_col0\" class=\"data row1 col0\" >28</td>\n",
       "                        <td id=\"T_bb337e58_8abe_11ea_9234_8c859024b292row1_col1\" class=\"data row1 col1\" >$2.96</td>\n",
       "                        <td id=\"T_bb337e58_8abe_11ea_9234_8c859024b292row1_col2\" class=\"data row1 col2\" >$82.78</td>\n",
       "                        <td id=\"T_bb337e58_8abe_11ea_9234_8c859024b292row1_col3\" class=\"data row1 col3\" >$3.76</td>\n",
       "            </tr>\n",
       "            <tr>\n",
       "                        <th id=\"T_bb337e58_8abe_11ea_9234_8c859024b292level0_row2\" class=\"row_heading level0 row2\" >15-19</th>\n",
       "                        <td id=\"T_bb337e58_8abe_11ea_9234_8c859024b292row2_col0\" class=\"data row2 col0\" >136</td>\n",
       "                        <td id=\"T_bb337e58_8abe_11ea_9234_8c859024b292row2_col1\" class=\"data row2 col1\" >$3.04</td>\n",
       "                        <td id=\"T_bb337e58_8abe_11ea_9234_8c859024b292row2_col2\" class=\"data row2 col2\" >$412.89</td>\n",
       "                        <td id=\"T_bb337e58_8abe_11ea_9234_8c859024b292row2_col3\" class=\"data row2 col3\" >$3.86</td>\n",
       "            </tr>\n",
       "            <tr>\n",
       "                        <th id=\"T_bb337e58_8abe_11ea_9234_8c859024b292level0_row3\" class=\"row_heading level0 row3\" >20-24</th>\n",
       "                        <td id=\"T_bb337e58_8abe_11ea_9234_8c859024b292row3_col0\" class=\"data row3 col0\" >365</td>\n",
       "                        <td id=\"T_bb337e58_8abe_11ea_9234_8c859024b292row3_col1\" class=\"data row3 col1\" >$3.05</td>\n",
       "                        <td id=\"T_bb337e58_8abe_11ea_9234_8c859024b292row3_col2\" class=\"data row3 col2\" >$1,114.06</td>\n",
       "                        <td id=\"T_bb337e58_8abe_11ea_9234_8c859024b292row3_col3\" class=\"data row3 col3\" >$4.32</td>\n",
       "            </tr>\n",
       "            <tr>\n",
       "                        <th id=\"T_bb337e58_8abe_11ea_9234_8c859024b292level0_row4\" class=\"row_heading level0 row4\" >25-29</th>\n",
       "                        <td id=\"T_bb337e58_8abe_11ea_9234_8c859024b292row4_col0\" class=\"data row4 col0\" >101</td>\n",
       "                        <td id=\"T_bb337e58_8abe_11ea_9234_8c859024b292row4_col1\" class=\"data row4 col1\" >$2.90</td>\n",
       "                        <td id=\"T_bb337e58_8abe_11ea_9234_8c859024b292row4_col2\" class=\"data row4 col2\" >$293.00</td>\n",
       "                        <td id=\"T_bb337e58_8abe_11ea_9234_8c859024b292row4_col3\" class=\"data row4 col3\" >$3.81</td>\n",
       "            </tr>\n",
       "            <tr>\n",
       "                        <th id=\"T_bb337e58_8abe_11ea_9234_8c859024b292level0_row5\" class=\"row_heading level0 row5\" >30-34</th>\n",
       "                        <td id=\"T_bb337e58_8abe_11ea_9234_8c859024b292row5_col0\" class=\"data row5 col0\" >73</td>\n",
       "                        <td id=\"T_bb337e58_8abe_11ea_9234_8c859024b292row5_col1\" class=\"data row5 col1\" >$2.93</td>\n",
       "                        <td id=\"T_bb337e58_8abe_11ea_9234_8c859024b292row5_col2\" class=\"data row5 col2\" >$214.00</td>\n",
       "                        <td id=\"T_bb337e58_8abe_11ea_9234_8c859024b292row5_col3\" class=\"data row5 col3\" >$4.12</td>\n",
       "            </tr>\n",
       "            <tr>\n",
       "                        <th id=\"T_bb337e58_8abe_11ea_9234_8c859024b292level0_row6\" class=\"row_heading level0 row6\" >35-39</th>\n",
       "                        <td id=\"T_bb337e58_8abe_11ea_9234_8c859024b292row6_col0\" class=\"data row6 col0\" >41</td>\n",
       "                        <td id=\"T_bb337e58_8abe_11ea_9234_8c859024b292row6_col1\" class=\"data row6 col1\" >$3.60</td>\n",
       "                        <td id=\"T_bb337e58_8abe_11ea_9234_8c859024b292row6_col2\" class=\"data row6 col2\" >$147.67</td>\n",
       "                        <td id=\"T_bb337e58_8abe_11ea_9234_8c859024b292row6_col3\" class=\"data row6 col3\" >$4.76</td>\n",
       "            </tr>\n",
       "            <tr>\n",
       "                        <th id=\"T_bb337e58_8abe_11ea_9234_8c859024b292level0_row7\" class=\"row_heading level0 row7\" >40+</th>\n",
       "                        <td id=\"T_bb337e58_8abe_11ea_9234_8c859024b292row7_col0\" class=\"data row7 col0\" >13</td>\n",
       "                        <td id=\"T_bb337e58_8abe_11ea_9234_8c859024b292row7_col1\" class=\"data row7 col1\" >$2.94</td>\n",
       "                        <td id=\"T_bb337e58_8abe_11ea_9234_8c859024b292row7_col2\" class=\"data row7 col2\" >$38.24</td>\n",
       "                        <td id=\"T_bb337e58_8abe_11ea_9234_8c859024b292row7_col3\" class=\"data row7 col3\" >$3.19</td>\n",
       "            </tr>\n",
       "    </tbody></table>"
      ],
      "text/plain": [
       "<pandas.io.formats.style.Styler at 0x11c95b790>"
      ]
     },
     "execution_count": 82,
     "metadata": {},
     "output_type": "execute_result"
    }
   ],
   "source": [
    "#Purchasing Analysis\n",
    "\n",
    "#Average Price\n",
    "average_price_pa = purchase_data.groupby([\"Age Range\"]).mean()[\"Price\"]\n",
    "\n",
    "#Sum of group ranges \n",
    "sum_pa = purchase_data.groupby([\"Age Range\"]).sum()[\"Price\"]\n",
    "\n",
    "#Average total purchase per person \n",
    "atppp = sum_pa/agc_df[\"Total Count\"]\n",
    "\n",
    "purchasing_analysis_df = pd.DataFrame({\"Purchase Count\":age_count,\n",
    "                                      \"Average Purchase Value\": average_price_pa,\n",
    "                                      \"Total Purchase Value\": sum_pa,\n",
    "                                      \"Average Total Purchase Per Person\": atppp})\n",
    "\n",
    "#Format\n",
    "paf_df_pretty = purchasing_analysis_df.style.format({\"Average Purchase Value\": \"${:,.2f}\",\n",
    "                          \"Total Purchase Value\": \"${:,.2f}\",\n",
    "                          \"Average Total Purchase Per Person\":\"${:,.2f}\" })\n",
    "\n",
    "paf_df_pretty"
   ]
  },
  {
   "cell_type": "code",
   "execution_count": 85,
   "metadata": {},
   "outputs": [],
   "source": [
    "#Top Spenders\n",
    "\n",
    "#Data Names\n",
    "ts = purchase_data.groupby(\"SN\")\n",
    "\n",
    "#Total Purchases by name\n",
    "spender_count = ts[\"Purchase ID\"].count()\n",
    "\n",
    "#Average purchase\n",
    "avg_ts_price = ts[\"Price\"].mean()\n",
    "\n",
    "#Calculate purchase total\n",
    "total_ts = ts[\"Price\"].sum()"
   ]
  },
  {
   "cell_type": "code",
   "execution_count": 95,
   "metadata": {},
   "outputs": [
    {
     "data": {
      "text/html": [
       "<div>\n",
       "<style scoped>\n",
       "    .dataframe tbody tr th:only-of-type {\n",
       "        vertical-align: middle;\n",
       "    }\n",
       "\n",
       "    .dataframe tbody tr th {\n",
       "        vertical-align: top;\n",
       "    }\n",
       "\n",
       "    .dataframe thead th {\n",
       "        text-align: right;\n",
       "    }\n",
       "</style>\n",
       "<table border=\"1\" class=\"dataframe\">\n",
       "  <thead>\n",
       "    <tr style=\"text-align: right;\">\n",
       "      <th></th>\n",
       "      <th>Purchase Count</th>\n",
       "      <th>Average Purchase Count</th>\n",
       "      <th>Total Purchase Value</th>\n",
       "    </tr>\n",
       "    <tr>\n",
       "      <th>SN</th>\n",
       "      <th></th>\n",
       "      <th></th>\n",
       "      <th></th>\n",
       "    </tr>\n",
       "  </thead>\n",
       "  <tbody>\n",
       "    <tr>\n",
       "      <td>Lisosia93</td>\n",
       "      <td>5</td>\n",
       "      <td>3.79</td>\n",
       "      <td>18.96</td>\n",
       "    </tr>\n",
       "    <tr>\n",
       "      <td>Idastidru52</td>\n",
       "      <td>4</td>\n",
       "      <td>3.86</td>\n",
       "      <td>15.45</td>\n",
       "    </tr>\n",
       "    <tr>\n",
       "      <td>Chamjask73</td>\n",
       "      <td>3</td>\n",
       "      <td>4.61</td>\n",
       "      <td>13.83</td>\n",
       "    </tr>\n",
       "    <tr>\n",
       "      <td>Iral74</td>\n",
       "      <td>4</td>\n",
       "      <td>3.40</td>\n",
       "      <td>13.62</td>\n",
       "    </tr>\n",
       "    <tr>\n",
       "      <td>Iskadarya95</td>\n",
       "      <td>3</td>\n",
       "      <td>4.37</td>\n",
       "      <td>13.10</td>\n",
       "    </tr>\n",
       "  </tbody>\n",
       "</table>\n",
       "</div>"
      ],
      "text/plain": [
       "             Purchase Count  Average Purchase Count  Total Purchase Value\n",
       "SN                                                                       \n",
       "Lisosia93                 5                    3.79                 18.96\n",
       "Idastidru52               4                    3.86                 15.45\n",
       "Chamjask73                3                    4.61                 13.83\n",
       "Iral74                    4                    3.40                 13.62\n",
       "Iskadarya95               3                    4.37                 13.10"
      ]
     },
     "execution_count": 95,
     "metadata": {},
     "output_type": "execute_result"
    }
   ],
   "source": [
    "#Create Dataframe\n",
    "\n",
    "top_spending_df = pd.DataFrame({\"Purchase Count\":spender_count,\n",
    "                                \"Average Purchase Count\":avg_ts_price,\n",
    "                                \"Total Purchase Value\":total_ts})\n",
    "\n",
    "#Descending\n",
    "descending = top_spending_df.sort_values([\"Total Purchase Value\"], ascending = False)\n",
    "\n",
    "#Format\n",
    "top_spending_formatted = descending.style.format({\"Average Purchase Count\": \"${:,.2f}\",\n",
    "                          \"Total Purchase Value\": \"${:,.2f}\"})\n",
    "\n",
    "descending.round(2).head()"
   ]
  },
  {
   "cell_type": "code",
   "execution_count": 111,
   "metadata": {},
   "outputs": [
    {
     "data": {
      "text/plain": [
       "Item ID  Item Name                      \n",
       "0        Splinter                           1.28\n",
       "1        Crucifer                           3.26\n",
       "2        Verdict                            2.48\n",
       "3        Phantomlight                       2.49\n",
       "4        Bloodlord's Fetish                 1.70\n",
       "                                            ... \n",
       "179      Wolf, Promise of the Moonwalker    4.48\n",
       "180      Stormcaller                        3.36\n",
       "181      Reaper's Toll                      1.66\n",
       "182      Toothpick                          4.03\n",
       "183      Dragon's Greatsword                1.09\n",
       "Name: Price, Length: 183, dtype: float64"
      ]
     },
     "execution_count": 111,
     "metadata": {},
     "output_type": "execute_result"
    }
   ],
   "source": [
    "#Most Popular Iteams\n",
    "popular_item = purchase_data.groupby([\"Item ID\", \"Item Name\"])\n",
    "\n",
    "# of times purchased\n",
    "popular_count = popular_item[\"Price\"].count()\n",
    "\n",
    "# purchase value\n",
    "popular_item_purchase_value = popular_item[\"Price\"].sum()\n",
    "\n",
    "#price\n",
    "item_price = popular_item_purchase_value / popular_count\n",
    "\n"
   ]
  },
  {
   "cell_type": "code",
   "execution_count": 119,
   "metadata": {},
   "outputs": [
    {
     "data": {
      "text/html": [
       "<div>\n",
       "<style scoped>\n",
       "    .dataframe tbody tr th:only-of-type {\n",
       "        vertical-align: middle;\n",
       "    }\n",
       "\n",
       "    .dataframe tbody tr th {\n",
       "        vertical-align: top;\n",
       "    }\n",
       "\n",
       "    .dataframe thead th {\n",
       "        text-align: right;\n",
       "    }\n",
       "</style>\n",
       "<table border=\"1\" class=\"dataframe\">\n",
       "  <thead>\n",
       "    <tr style=\"text-align: right;\">\n",
       "      <th></th>\n",
       "      <th></th>\n",
       "      <th>Purchase Count</th>\n",
       "      <th>Total Purchase Value</th>\n",
       "      <th>Item Price</th>\n",
       "    </tr>\n",
       "    <tr>\n",
       "      <th>Item ID</th>\n",
       "      <th>Item Name</th>\n",
       "      <th></th>\n",
       "      <th></th>\n",
       "      <th></th>\n",
       "    </tr>\n",
       "  </thead>\n",
       "  <tbody>\n",
       "    <tr>\n",
       "      <td>178</td>\n",
       "      <td>Oathbreaker, Last Hope of the Breaking Storm</td>\n",
       "      <td>12</td>\n",
       "      <td>50.76</td>\n",
       "      <td>4.23</td>\n",
       "    </tr>\n",
       "    <tr>\n",
       "      <td>145</td>\n",
       "      <td>Fiery Glass Crusader</td>\n",
       "      <td>9</td>\n",
       "      <td>41.22</td>\n",
       "      <td>4.58</td>\n",
       "    </tr>\n",
       "    <tr>\n",
       "      <td>108</td>\n",
       "      <td>Extraction, Quickblade Of Trembling Hands</td>\n",
       "      <td>9</td>\n",
       "      <td>31.77</td>\n",
       "      <td>3.53</td>\n",
       "    </tr>\n",
       "    <tr>\n",
       "      <td>82</td>\n",
       "      <td>Nirvana</td>\n",
       "      <td>9</td>\n",
       "      <td>44.10</td>\n",
       "      <td>4.90</td>\n",
       "    </tr>\n",
       "    <tr>\n",
       "      <td>19</td>\n",
       "      <td>Pursuit, Cudgel of Necromancy</td>\n",
       "      <td>8</td>\n",
       "      <td>8.16</td>\n",
       "      <td>1.02</td>\n",
       "    </tr>\n",
       "  </tbody>\n",
       "</table>\n",
       "</div>"
      ],
      "text/plain": [
       "                                                      Purchase Count  \\\n",
       "Item ID Item Name                                                      \n",
       "178     Oathbreaker, Last Hope of the Breaking Storm              12   \n",
       "145     Fiery Glass Crusader                                       9   \n",
       "108     Extraction, Quickblade Of Trembling Hands                  9   \n",
       "82      Nirvana                                                    9   \n",
       "19      Pursuit, Cudgel of Necromancy                              8   \n",
       "\n",
       "                                                      Total Purchase Value  \\\n",
       "Item ID Item Name                                                            \n",
       "178     Oathbreaker, Last Hope of the Breaking Storm                 50.76   \n",
       "145     Fiery Glass Crusader                                         41.22   \n",
       "108     Extraction, Quickblade Of Trembling Hands                    31.77   \n",
       "82      Nirvana                                                      44.10   \n",
       "19      Pursuit, Cudgel of Necromancy                                 8.16   \n",
       "\n",
       "                                                      Item Price  \n",
       "Item ID Item Name                                                 \n",
       "178     Oathbreaker, Last Hope of the Breaking Storm        4.23  \n",
       "145     Fiery Glass Crusader                                4.58  \n",
       "108     Extraction, Quickblade Of Trembling Hands           3.53  \n",
       "82      Nirvana                                             4.90  \n",
       "19      Pursuit, Cudgel of Necromancy                       1.02  "
      ]
     },
     "execution_count": 119,
     "metadata": {},
     "output_type": "execute_result"
    }
   ],
   "source": [
    "# Create data frame with obtained values\n",
    "popular_items = pd.DataFrame({\"Purchase Count\": popular_count,\n",
    "                              \"Total Purchase Value\": popular_item_purchase_value ,\n",
    "                             \"Item Price\":item_price\n",
    "                             })\n",
    "# Sort in descending order to obtain top 5 popular items \n",
    "popular_formatting = popular_items.sort_values([\"Purchase Count\"], ascending=False).head()\n",
    "\n",
    "# Format with currency style\n",
    "popular_formatting.round(2)"
   ]
  },
  {
   "cell_type": "code",
   "execution_count": 121,
   "metadata": {},
   "outputs": [
    {
     "data": {
      "text/html": [
       "<div>\n",
       "<style scoped>\n",
       "    .dataframe tbody tr th:only-of-type {\n",
       "        vertical-align: middle;\n",
       "    }\n",
       "\n",
       "    .dataframe tbody tr th {\n",
       "        vertical-align: top;\n",
       "    }\n",
       "\n",
       "    .dataframe thead th {\n",
       "        text-align: right;\n",
       "    }\n",
       "</style>\n",
       "<table border=\"1\" class=\"dataframe\">\n",
       "  <thead>\n",
       "    <tr style=\"text-align: right;\">\n",
       "      <th></th>\n",
       "      <th></th>\n",
       "      <th>Purchase Count</th>\n",
       "      <th>Total Purchase Value</th>\n",
       "      <th>Item Price</th>\n",
       "    </tr>\n",
       "    <tr>\n",
       "      <th>Item ID</th>\n",
       "      <th>Item Name</th>\n",
       "      <th></th>\n",
       "      <th></th>\n",
       "      <th></th>\n",
       "    </tr>\n",
       "  </thead>\n",
       "  <tbody>\n",
       "    <tr>\n",
       "      <td>178</td>\n",
       "      <td>Oathbreaker, Last Hope of the Breaking Storm</td>\n",
       "      <td>12</td>\n",
       "      <td>50.76</td>\n",
       "      <td>4.23</td>\n",
       "    </tr>\n",
       "    <tr>\n",
       "      <td>82</td>\n",
       "      <td>Nirvana</td>\n",
       "      <td>9</td>\n",
       "      <td>44.10</td>\n",
       "      <td>4.90</td>\n",
       "    </tr>\n",
       "    <tr>\n",
       "      <td>145</td>\n",
       "      <td>Fiery Glass Crusader</td>\n",
       "      <td>9</td>\n",
       "      <td>41.22</td>\n",
       "      <td>4.58</td>\n",
       "    </tr>\n",
       "    <tr>\n",
       "      <td>92</td>\n",
       "      <td>Final Critic</td>\n",
       "      <td>8</td>\n",
       "      <td>39.04</td>\n",
       "      <td>4.88</td>\n",
       "    </tr>\n",
       "    <tr>\n",
       "      <td>103</td>\n",
       "      <td>Singed Scalpel</td>\n",
       "      <td>8</td>\n",
       "      <td>34.80</td>\n",
       "      <td>4.35</td>\n",
       "    </tr>\n",
       "  </tbody>\n",
       "</table>\n",
       "</div>"
      ],
      "text/plain": [
       "                                                      Purchase Count  \\\n",
       "Item ID Item Name                                                      \n",
       "178     Oathbreaker, Last Hope of the Breaking Storm              12   \n",
       "82      Nirvana                                                    9   \n",
       "145     Fiery Glass Crusader                                       9   \n",
       "92      Final Critic                                               8   \n",
       "103     Singed Scalpel                                             8   \n",
       "\n",
       "                                                      Total Purchase Value  \\\n",
       "Item ID Item Name                                                            \n",
       "178     Oathbreaker, Last Hope of the Breaking Storm                 50.76   \n",
       "82      Nirvana                                                      44.10   \n",
       "145     Fiery Glass Crusader                                         41.22   \n",
       "92      Final Critic                                                 39.04   \n",
       "103     Singed Scalpel                                               34.80   \n",
       "\n",
       "                                                      Item Price  \n",
       "Item ID Item Name                                                 \n",
       "178     Oathbreaker, Last Hope of the Breaking Storm        4.23  \n",
       "82      Nirvana                                             4.90  \n",
       "145     Fiery Glass Crusader                                4.58  \n",
       "92      Final Critic                                        4.88  \n",
       "103     Singed Scalpel                                      4.35  "
      ]
     },
     "execution_count": 121,
     "metadata": {},
     "output_type": "execute_result"
    }
   ],
   "source": [
    "#Most Profitable items\n",
    "most_profitable =popular_items.sort_values('Total Purchase Value', ascending=False).head()\n",
    "most_profitable"
   ]
  },
  {
   "cell_type": "code",
   "execution_count": null,
   "metadata": {},
   "outputs": [],
   "source": []
  }
 ],
 "metadata": {
  "kernelspec": {
   "display_name": "Python 3",
   "language": "python",
   "name": "python3"
  },
  "language_info": {
   "codemirror_mode": {
    "name": "ipython",
    "version": 3
   },
   "file_extension": ".py",
   "mimetype": "text/x-python",
   "name": "python",
   "nbconvert_exporter": "python",
   "pygments_lexer": "ipython3",
   "version": "3.7.4"
  }
 },
 "nbformat": 4,
 "nbformat_minor": 4
}
